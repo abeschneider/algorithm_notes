{
 "cells": [
  {
   "cell_type": "code",
   "execution_count": 8,
   "metadata": {
    "collapsed": false
   },
   "outputs": [
    {
     "name": "stdout",
     "output_type": "stream",
     "text": [
      "{0: 0, 1: 8, 2: 5, 3: 9, 4: 5, 5: 7}\n",
      "{0: None, 1: 0, 2: 3, 3: 1, 4: 5, 5: 2}\n"
     ]
    }
   ],
   "source": [
    "def update(G, cost, parent):\n",
    "    # O(|V||E|)\n",
    "    for vertex in G.keys():\n",
    "        for neighbor, distance in G[vertex]:\n",
    "            if cost[vertex] + distance < cost[neighbor]:\n",
    "                cost[neighbor] = cost[vertex] + distance\n",
    "                parent[neighbor] = vertex\n",
    "\n",
    "def shortest_path(G, root):\n",
    "    cost = {v:10000 for v in G.keys()}\n",
    "    cost[root] = 0\n",
    "    parent = {v:None for v in G.keys()}\n",
    "    for i in range(len(G)-1):\n",
    "        update(G, cost, parent)\n",
    "        \n",
    "    return cost, parent\n",
    "        \n",
    "        \n",
    "        \n",
    "G = {0:[(1, 8), (2, 10)], 1:[(3, 1)], 2:[(5, 2)], 3:[(2, -4), (5, -1)], 4:[(2, 1)], 5:[(4, -2)] }\n",
    "cost, parent = shortest_path(G, 0)\n",
    "print cost\n",
    "print parent"
   ]
  }
 ],
 "metadata": {
  "kernelspec": {
   "display_name": "Python 2",
   "language": "python",
   "name": "python2"
  },
  "language_info": {
   "codemirror_mode": {
    "name": "ipython",
    "version": 2
   },
   "file_extension": ".py",
   "mimetype": "text/x-python",
   "name": "python",
   "nbconvert_exporter": "python",
   "pygments_lexer": "ipython2",
   "version": "2.7.13"
  }
 },
 "nbformat": 4,
 "nbformat_minor": 2
}
