{
 "cells": [
  {
   "cell_type": "code",
   "execution_count": 11,
   "metadata": {
    "collapsed": false,
    "deletable": true,
    "editable": true
   },
   "outputs": [],
   "source": [
    "import numpy as np\n",
    "\n",
    "from IPython.display import clear_output\n",
    "from pjdiagram import *\n",
    "from ipywidgets import *"
   ]
  },
  {
   "cell_type": "markdown",
   "metadata": {},
   "source": [
    "# Bubble Sort\n",
    "\n",
    "## Summary\n",
    "\n",
    "| Performance                 | Complexity       |\n",
    "|-----------------------------|------------------|\n",
    "|Worst-case                   | $O(n^{2})$       |\n",
    "|Best-case                    | $O(n)$           |\n",
    "|Average                      | $O(n^{2})$       |\n",
    "|Worst-case space             | $O(1)$           |\n",
    "\n",
    "\n",
    "## Algorithm\n",
    "\n",
    "Perform a pass over list, performing a swap any time element $i+1$ is less than element $i$. Stop when no more swaps have been performed. Maximum number of passes will be $n^2$.\n",
    "\n",
    "## Code"
   ]
  },
  {
   "cell_type": "code",
   "execution_count": 18,
   "metadata": {
    "collapsed": true
   },
   "outputs": [],
   "source": [
    "def bubble_sort(lst):\n",
    "    swapped = True\n",
    "    \n",
    "    # keep running until all the items have been swapped\n",
    "    # NB: in the worst case scenario this will loop $n$ times\n",
    "    while swapped:\n",
    "        swapped = False\n",
    "        \n",
    "        # traverse entire list\n",
    "        for i in range(len(lst)-1):\n",
    "            \n",
    "            # if next item is less than current item...\n",
    "            if lst[i] > lst[i+1]:\n",
    "                # swap values\n",
    "                lst[i], lst[i+1] = lst[i+1], lst[i]\n",
    "                \n",
    "                # make sure we keep looping\n",
    "                swapped = True                "
   ]
  },
  {
   "cell_type": "markdown",
   "metadata": {},
   "source": [
    "A quick demonstration of the algorithm:"
   ]
  },
  {
   "cell_type": "code",
   "execution_count": 20,
   "metadata": {
    "collapsed": false
   },
   "outputs": [
    {
     "name": "stdout",
     "output_type": "stream",
     "text": [
      "[1, 2, 2, 3, 5, 6, 7, 10, 33, 100]\n"
     ]
    }
   ],
   "source": [
    "lst = [5, 1, 2, 3, 6, 10, 2, 33, 7, 100]\n",
    "bubble_sort(lst)\n",
    "\n",
    "print(lst)"
   ]
  }
 ],
 "metadata": {
  "kernelspec": {
   "display_name": "Python 2",
   "language": "python",
   "name": "python2"
  },
  "language_info": {
   "codemirror_mode": {
    "name": "ipython",
    "version": 2
   },
   "file_extension": ".py",
   "mimetype": "text/x-python",
   "name": "python",
   "nbconvert_exporter": "python",
   "pygments_lexer": "ipython2",
   "version": "2.7.13"
  }
 },
 "nbformat": 4,
 "nbformat_minor": 2
}
