{
 "cells": [
  {
   "cell_type": "markdown",
   "metadata": {},
   "source": [
    "Find cycles in a graph using DFS"
   ]
  },
  {
   "cell_type": "code",
   "execution_count": 37,
   "metadata": {
    "collapsed": false
   },
   "outputs": [
    {
     "name": "stdout",
     "output_type": "stream",
     "text": [
      "back edge found 4 -> 0\n",
      "True\n"
     ]
    }
   ],
   "source": [
    "def findCycles(G, node, visited=set(), processed={}):\n",
    "    visited.add(node)\n",
    "    processed[node] = False\n",
    "\n",
    "    for neighbor in G[node]:\n",
    "        if neighbor not in visited:\n",
    "            if findCycles(G, neighbor, visited, processed): \n",
    "                return True\n",
    "        elif not processed[neighbor]:\n",
    "            # if we're discovered, but not processed, it's a back edge\n",
    "            # because it means we've recursed down this node at some point\n",
    "            # (and thus its an ancestor), but somehow ended back here\n",
    "            print \"back edge found\", node, \"->\", neighbor   \n",
    "            return True\n",
    "            \n",
    "    processed[node] = True\n",
    "    return False\n",
    "        \n",
    "def main():\n",
    "    G = {0: [1, 3], 1: [2], 2: [], 3: [1, 4], 4: [0]}\n",
    "    print findCycles(G, 0)\n",
    "    \n",
    "if __name__ == \"__main__\":\n",
    "    main()\n",
    "    "
   ]
  },
  {
   "cell_type": "markdown",
   "metadata": {},
   "source": [
    "Articulation points"
   ]
  },
  {
   "cell_type": "code",
   "execution_count": null,
   "metadata": {
    "collapsed": true
   },
   "outputs": [],
   "source": []
  }
 ],
 "metadata": {
  "kernelspec": {
   "display_name": "Python 2",
   "language": "python",
   "name": "python2"
  },
  "language_info": {
   "codemirror_mode": {
    "name": "ipython",
    "version": 2
   },
   "file_extension": ".py",
   "mimetype": "text/x-python",
   "name": "python",
   "nbconvert_exporter": "python",
   "pygments_lexer": "ipython2",
   "version": "2.7.13"
  }
 },
 "nbformat": 4,
 "nbformat_minor": 2
}
