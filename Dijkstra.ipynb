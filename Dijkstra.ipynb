{
 "cells": [
  {
   "cell_type": "markdown",
   "metadata": {},
   "source": [
    "Run time: $O(E + V\\log(V))$."
   ]
  },
  {
   "cell_type": "code",
   "execution_count": 27,
   "metadata": {
    "collapsed": false,
    "deletable": true,
    "editable": true
   },
   "outputs": [
    {
     "name": "stdout",
     "output_type": "stream",
     "text": [
      "[0, 2, 3]\n"
     ]
    }
   ],
   "source": [
    "import heapq\n",
    "import math\n",
    "\n",
    "def dijkstra(G, src):\n",
    "    # G is an adjacency list of: v_i -> [v_j, v_k, ...]\n",
    "    Q = []\n",
    "    cost = {node: float('inf') for node in G.keys()}\n",
    "    cost[src] = 0\n",
    "    parent = {src: None}\n",
    "    visited = set()\n",
    "    heapq.heappush(Q, (cost[src], src))\n",
    "    \n",
    "    while len(Q) > 0:\n",
    "        c, node = heapq.heappop(Q)\n",
    "        for neighbor, distance in G[node]:\n",
    "            if neighbor not in visited:\n",
    "                if cost[node] + distance < cost[neighbor]:\n",
    "                    cost[neighbor] = cost[node] + distance\n",
    "                    parent[neighbor] = node\n",
    "                    heapq.heappush(Q, (cost[neighbor], neighbor))\n",
    "                    \n",
    "    return cost, parent\n",
    "\n",
    "def reconstruct_path(parent, src, target):\n",
    "    node = target\n",
    "    path = []\n",
    "    \n",
    "    while node != None:\n",
    "        path.insert(0, node)\n",
    "        node = parent[node]\n",
    "\n",
    "    return path\n",
    "\n",
    "def shortest_path(G, src, target):\n",
    "    cost, parent = dijkstra(G, 0)\n",
    "    return reconstruct_path(parent, 0, 3)        \n",
    "                    \n",
    "def main():\n",
    "    G = {0: [(1, 2), (2, 1)], 1: [(3, 2)], 2: [(3, 1)], 3: []}\n",
    "    path = shortest_path(G, 0, 3) \n",
    "    print path\n",
    "    \n",
    "if __name__ == \"__main__\":\n",
    "    main()"
   ]
  }
 ],
 "metadata": {
  "kernelspec": {
   "display_name": "Python 2",
   "language": "python",
   "name": "python2"
  },
  "language_info": {
   "codemirror_mode": {
    "name": "ipython",
    "version": 2
   },
   "file_extension": ".py",
   "mimetype": "text/x-python",
   "name": "python",
   "nbconvert_exporter": "python",
   "pygments_lexer": "ipython2",
   "version": "2.7.13"
  }
 },
 "nbformat": 4,
 "nbformat_minor": 2
}
