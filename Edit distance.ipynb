{
 "cells": [
  {
   "cell_type": "code",
   "execution_count": 12,
   "metadata": {
    "collapsed": false
   },
   "outputs": [],
   "source": [
    "from __future__ import print_function\n",
    "import numpy as np"
   ]
  },
  {
   "cell_type": "markdown",
   "metadata": {},
   "source": [
    "## Naive approach\n",
    "\n",
    "The naive approach to calculate the edit distance is to first define three possible operations allowed: $\\{ \\text{substitution}, \\text{insert}, \\text{delete}\\}$. We maintain the index to $s_1$ with $i$ and the index to $s_2$ with $j$.\n",
    "\n",
    "* Both $i$ and $j$ are set to the end of their respective strings\n",
    "* for each op a cost is estimated (recursively)\n",
    "* insertion ops decrement $j$ (which is equivalent to incrementing $i$)\n",
    "* deletion ops decrement $i$\n",
    "* match/substitution decrement both $i$ and $j$"
   ]
  },
  {
   "cell_type": "code",
   "execution_count": 294,
   "metadata": {
    "collapsed": false
   },
   "outputs": [
    {
     "name": "stdout",
     "output_type": "stream",
     "text": [
      "3\n"
     ]
    }
   ],
   "source": [
    "def edit_distance(s1, s2, i, j, match_cost, insert_cost, delete_cost):\n",
    "    if i == 0: return j*delete_cost(\" \")\n",
    "    if j == 0: return i*insert_cost(\" \")\n",
    "    \n",
    "    match_op = edit_distance(s1, s2, i-1, j-1, match_cost, insert_cost, delete_cost) \\\n",
    "        + match_cost(s1[i], s2[j])\n",
    "        \n",
    "    insert_op = edit_distance(s1, s2, i, j-1, match_cost, insert_cost, delete_cost) \\\n",
    "        + insert_cost(s2[j])\n",
    "        \n",
    "    delete_op = edit_distance(s1, s2, i-1, j, match_cost, insert_cost, delete_cost) \\\n",
    "        + delete_cost(s1[i])\n",
    "    \n",
    "    ops = [match_op, insert_op, delete_op]\n",
    "    \n",
    "    return min(ops)\n",
    "\n",
    "s1 = \"abc\"\n",
    "s2 = \"xaxbxc\"\n",
    "print(edit_distance(s1, s2, len(s1)-1, len(s2)-1,\n",
    "                   lambda c1, c2: 0 if c1 == c2 else 1,\n",
    "                   lambda c: 1,\n",
    "                   lambda c: 1))"
   ]
  },
  {
   "cell_type": "markdown",
   "metadata": {},
   "source": [
    "The function can only be used on very small strings due to the fact that it branches for each operation. The best case scenario (where $i$ and $j$ are both decremented) it has a $O(3^n)$. However, we can observe that many of the calculations are duplicated. Each branching of the tree does not share information with the other branches, and necessarily overlap the portions of the string they process. Because the function detereministic and is parameterized by $i$ and $j$, there can only be $|s_1|*|s_2|$ possible calls made, and thus should have a $O(mn)$.\n",
    "\n",
    "We can use dynamic programming to solve this for us. The function still behaves in a similar fashion, except we now keep two matrices. The `cost` matrix keeps a running tally of the total cost to reach $(i, j)$. The `parent` matrix keeps track of which operation was selectd to reach $(i, j)$. For both matrices, its assumed that the minimum cost was always selected.\n",
    "\n",
    "One thing to note is that the matrices are indexed with `+1` from the previous code. This is because the $0$th indices of the matrices refer to $1$ before the first character of the string."
   ]
  },
  {
   "cell_type": "code",
   "execution_count": 297,
   "metadata": {
    "collapsed": true
   },
   "outputs": [],
   "source": [
    "def calc_distance(cost, parent, s1, s2, match_cost, insert_cost, delete_cost):    \n",
    "    for i, c1 in enumerate(s1):\n",
    "        for j, c2 in enumerate(s2):\n",
    "            match_op = cost[i, j] + match_cost(c1, c2)\n",
    "            insert_op = cost[i+1, j] + insert_cost(c1)\n",
    "            delete_op = cost[i, j+1] + delete_cost(c2)\n",
    "            \n",
    "            # determine which operation is cheapest\n",
    "            ops = [match_op, insert_op, delete_op]\n",
    "            idx = np.argmin(ops)\n",
    "            \n",
    "            # cost for (i, j) is determined by whichever op is cheapest\n",
    "            # to perform.\n",
    "            cost[i+1, j+1] = ops[idx]\n",
    "            parent[i+1, j+1] = idx\n",
    "             \n",
    "    return (cost, parent)"
   ]
  },
  {
   "cell_type": "markdown",
   "metadata": {},
   "source": [
    "Our new function `calc_distance` doesn't return the final desired value. Instead we can use `reconstruct_path` on the `parent` matrix given a starting location."
   ]
  },
  {
   "cell_type": "code",
   "execution_count": 287,
   "metadata": {
    "collapsed": true
   },
   "outputs": [],
   "source": [
    "def reconstruct_path(parent, s1, s2, i, j, on_match=None, on_insert=None, on_delete=None):    \n",
    "    if parent[i, j] == -1: return\n",
    "    \n",
    "    if parent[i, j] == 0:\n",
    "        reconstruct_path(parent, s1, s2, i-1, j-1, on_match, on_insert, on_delete)\n",
    "        if on_match: on_match(s1[i-1], s2[j-1])\n",
    "    elif parent[i, j] == 1:\n",
    "        reconstruct_path(parent, s1, s2, i, j-1, on_match, on_insert, on_delete)\n",
    "        if on_insert: on_insert(s1[i-1], s2[j-1])\n",
    "    elif parent[i, j] == 2:\n",
    "        reconstruct_path(parent, s1, s2, i-1, j, on_match, on_insert, on_delete)\n",
    "        if on_delete: on_delete(s1[i-1], s2[j-1])"
   ]
  },
  {
   "cell_type": "code",
   "execution_count": 298,
   "metadata": {
    "collapsed": false
   },
   "outputs": [
    {
     "name": "stdout",
     "output_type": "stream",
     "text": [
      "5\n",
      "True\n"
     ]
    }
   ],
   "source": [
    "def edit_distance(s1, s2):\n",
    "    cost = np.zeros((len(s1)+1, len(s2)+1), dtype=np.uint8)\n",
    "    parent = np.zeros((len(s1)+1, len(s2)+1), dtype=np.int8)\n",
    "    \n",
    "    cost[0, 0] = 0\n",
    "    parent[0, 0] = -1\n",
    "    \n",
    "    # deletion (s1[i] == s2[i-k])\n",
    "    cost[1:, 0] = range(1, len(s1)+1)\n",
    "    parent[1:, 0] = 2\n",
    "    \n",
    "    # insertion (s1[i+k] == s2[i])\n",
    "    cost[0, 1:] = range(1, len(s2)+1)\n",
    "    parent[0, 1:] = 1\n",
    "        \n",
    "    cost, parent = calc_distance(cost, parent, s1, s2, \n",
    "                                 lambda c1, c2: 0 if c1 == c2 else 1,\n",
    "                                 lambda c: 1,\n",
    "                                 lambda c: 1)\n",
    "    \n",
    "    result = []\n",
    "    reconstruct_path(parent, s1, s2, len(s1), len(s2),\n",
    "                     lambda c1, c2: result.append(\"M\") if c1 == c2 else result.append(\"S\"),\n",
    "                     lambda c1, c2: result.append(\"I\"),\n",
    "                     lambda c1, v2: result.append(\"D\"))\n",
    "    return cost[len(s1), len(s2)], result\n",
    "    \n",
    "    \n",
    "s1 = \"thou shalt not\"\n",
    "s2 = \"you should not\"\n",
    "cost, result = edit_distance(s1, s2)\n",
    "result = \"\".join(result)\n",
    "\n",
    "print(cost)\n",
    "correct = \"DSMMMMMISMSMMMM\"\n",
    "print(result == correct)"
   ]
  },
  {
   "cell_type": "code",
   "execution_count": 280,
   "metadata": {
    "collapsed": false
   },
   "outputs": [
    {
     "name": "stdout",
     "output_type": "stream",
     "text": [
      "cost:  2\n",
      "True\n"
     ]
    }
   ],
   "source": [
    "def match_substring(s1, s2):\n",
    "    cost = np.zeros((len(s1)+1, len(s2)+1), dtype=np.uint8)\n",
    "    parent = np.zeros((len(s1)+1, len(s2)+1), dtype=np.int8)\n",
    "    \n",
    "    cost[0, 0] = 0\n",
    "    parent[0, 0] = -1\n",
    "    \n",
    "    cost[1:, 0] = range(1, len(s1)+1)\n",
    "    parent[1:, 0] = 2\n",
    "    \n",
    "    cost[0, 1:] = range(1, len(s2)+1)\n",
    "    parent[0, 1:] = 1    \n",
    "    \n",
    "    cost, parent = calc_distance(cost, parent, s1, s2, \n",
    "                             lambda c1, c2: 0 if c1 == c2 else 1,\n",
    "                             lambda c: 1,\n",
    "                             lambda c: 1)\n",
    "    \n",
    "    i = len(s1)\n",
    "    j = np.argmin(cost[i, :])\n",
    "            \n",
    "    count = [0]\n",
    "\n",
    "    \n",
    "    def inc(c1, c2):\n",
    "        count[0] += 1\n",
    "\n",
    "    reconstruct_path(parent, s1, s2, i, j, inc)\n",
    "    return cost[i, j], count[0]\n",
    "\n",
    "s1 = \"!test!\"\n",
    "s2 = \"test\"\n",
    "cost, count = match_substring(s1, s2)\n",
    "\n",
    "print(\"cost: \", cost)\n",
    "print(count == len(s2))\n"
   ]
  },
  {
   "cell_type": "code",
   "execution_count": 281,
   "metadata": {
    "collapsed": false
   },
   "outputs": [
    {
     "name": "stdout",
     "output_type": "stream",
     "text": [
      "eca\n"
     ]
    }
   ],
   "source": [
    "def longest_subsequence(s1, s2):\n",
    "    cost = np.zeros((len(s1)+1, len(s2)+1), dtype=np.uint8)\n",
    "    parent = np.zeros((len(s1)+1, len(s2)+1), dtype=np.int8)\n",
    "    \n",
    "    cost[0, 0] = 0\n",
    "    parent[0, 0] = -1\n",
    "    \n",
    "    cost[1:, 0] = range(1, len(s1)+1)\n",
    "    parent[1:, 0] = 2\n",
    "    \n",
    "    cost[0, 1:] = range(1, len(s2)+1)\n",
    "    parent[0, 1:] = 1        \n",
    "    \n",
    "    cost, parent = calc_distance(cost, parent, s1, s2, \n",
    "                             lambda c1, c2: 0 if c1 == c2 else 10,\n",
    "                             lambda c: 1,\n",
    "                             lambda c: 1)\n",
    "    \n",
    "    result = []\n",
    "    reconstruct_path(parent, s1, s2, len(s1), len(s2),\n",
    "                     lambda c1, c2: result.append(c1))\n",
    "    return \"\".join(result)\n",
    "    \n",
    "s1 = \" democrat\"\n",
    "s2 = \"republican\"\n",
    "result = longest_subsequence(s1, s2)\n",
    "\n",
    "print(result)\n"
   ]
  },
  {
   "cell_type": "markdown",
   "metadata": {},
   "source": [
    "### Alternate formulation\n",
    "\n",
    "Instead of keeeping an explicit table for `cost` and `parent`, we could instead employ a dictionary."
   ]
  },
  {
   "cell_type": "code",
   "execution_count": 316,
   "metadata": {
    "collapsed": false
   },
   "outputs": [
    {
     "name": "stdout",
     "output_type": "stream",
     "text": [
      "5\n"
     ]
    }
   ],
   "source": [
    "def _calc_distance(s1, s2, i, j, match_cost, insert_cost, delete_cost, cache={}):\n",
    "    if (i, j) in cache:\n",
    "        return cache[(i, j)]\n",
    "    result = edit_distance(s1, s2, i, j, match_cost, insert_cost, delete_cost, cache)\n",
    "    \n",
    "    cache[(i, j)] = result\n",
    "    return result\n",
    "\n",
    "def edit_distance(s1, s2, i, j, match_cost, insert_cost, delete_cost, cache={}):\n",
    "    # s1 ran out, delete the rest of the string\n",
    "    if i == 0: return j*delete_cost(\" \")\n",
    "    \n",
    "    # s2 ran out, insert until we match s1\n",
    "    if j == 0: return i*insert_cost(\" \")\n",
    "    \n",
    "    match_op = _calc_distance(s1, s2, i-1, j-1, match_cost, insert_cost, delete_cost, cache) \\\n",
    "        + match_cost(s1[i-1], s2[j-1])\n",
    "        \n",
    "    insert_op = _calc_distance(s1, s2, i, j-1, match_cost, insert_cost, delete_cost, cache) \\\n",
    "        + insert_cost(s2[j-1])\n",
    "        \n",
    "    delete_op = _calc_distance(s1, s2, i-1, j, match_cost, insert_cost, delete_cost, cache) \\\n",
    "        + delete_cost(s1[i-1])\n",
    "    \n",
    "    ops = [match_op, insert_op, delete_op]\n",
    "    \n",
    "    return min(ops)\n",
    "\n",
    "s1 = \"you should not\"\n",
    "s2 = \"thou shalt not\"\n",
    "print(edit_distance(s1, s2, len(s1), len(s2),\n",
    "                   lambda c1, c2: 0 if c1 == c2 else 1,\n",
    "                   lambda c: 1,\n",
    "                   lambda c: 1))"
   ]
  }
 ],
 "metadata": {
  "kernelspec": {
   "display_name": "Python 2",
   "language": "python",
   "name": "python2"
  },
  "language_info": {
   "codemirror_mode": {
    "name": "ipython",
    "version": 2
   },
   "file_extension": ".py",
   "mimetype": "text/x-python",
   "name": "python",
   "nbconvert_exporter": "python",
   "pygments_lexer": "ipython2",
   "version": "2.7.13"
  }
 },
 "nbformat": 4,
 "nbformat_minor": 2
}
